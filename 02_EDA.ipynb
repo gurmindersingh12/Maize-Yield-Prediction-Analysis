{
  "nbformat": 4,
  "nbformat_minor": 0,
  "metadata": {
    "colab": {
      "provenance": [],
      "authorship_tag": "ABX9TyPyv0kCMMwR26FHCfx2JbsR"
    },
    "kernelspec": {
      "name": "python3",
      "display_name": "Python 3"
    },
    "language_info": {
      "name": "python"
    }
  },
  "cells": [
    {
      "cell_type": "markdown",
      "source": [
        "# Step 1: Import Required Libraries"
      ],
      "metadata": {
        "id": "30Gud4q0WErJ"
      }
    },
    {
      "cell_type": "code",
      "execution_count": 2,
      "metadata": {
        "id": "Sne1zdIrUl74"
      },
      "outputs": [],
      "source": [
        "# Import necessary libraries\n",
        "import pandas as pd\n",
        "import numpy as np\n",
        "import matplotlib.pyplot as plt\n",
        "import seaborn as sns\n",
        "from sklearn.model_selection import train_test_split\n",
        "from sklearn.preprocessing import StandardScaler, MinMaxScaler\n",
        "from sklearn.impute import SimpleImputer\n"
      ]
    },
    {
      "cell_type": "markdown",
      "source": [
        "# Step 2: Upload CSV File Using Google Colab’s Upload Option"
      ],
      "metadata": {
        "id": "JLLXPKUiWP58"
      }
    },
    {
      "cell_type": "code",
      "source": [
        "# Import the files module for uploading\n",
        "from google.colab import files\n",
        "\n",
        "# Upload the CSV file\n",
        "uploaded = files.upload()\n",
        "\n"
      ],
      "metadata": {
        "colab": {
          "base_uri": "https://localhost:8080/",
          "height": 74
        },
        "id": "W6X6iDt2WDii",
        "outputId": "7921df45-bca1-4bb3-c323-67125685f828"
      },
      "execution_count": 3,
      "outputs": [
        {
          "output_type": "display_data",
          "data": {
            "text/plain": [
              "<IPython.core.display.HTML object>"
            ],
            "text/html": [
              "\n",
              "     <input type=\"file\" id=\"files-f487861d-51c2-4dc3-bdcc-61904eb32b57\" name=\"files[]\" multiple disabled\n",
              "        style=\"border:none\" />\n",
              "     <output id=\"result-f487861d-51c2-4dc3-bdcc-61904eb32b57\">\n",
              "      Upload widget is only available when the cell has been executed in the\n",
              "      current browser session. Please rerun this cell to enable.\n",
              "      </output>\n",
              "      <script>// Copyright 2017 Google LLC\n",
              "//\n",
              "// Licensed under the Apache License, Version 2.0 (the \"License\");\n",
              "// you may not use this file except in compliance with the License.\n",
              "// You may obtain a copy of the License at\n",
              "//\n",
              "//      http://www.apache.org/licenses/LICENSE-2.0\n",
              "//\n",
              "// Unless required by applicable law or agreed to in writing, software\n",
              "// distributed under the License is distributed on an \"AS IS\" BASIS,\n",
              "// WITHOUT WARRANTIES OR CONDITIONS OF ANY KIND, either express or implied.\n",
              "// See the License for the specific language governing permissions and\n",
              "// limitations under the License.\n",
              "\n",
              "/**\n",
              " * @fileoverview Helpers for google.colab Python module.\n",
              " */\n",
              "(function(scope) {\n",
              "function span(text, styleAttributes = {}) {\n",
              "  const element = document.createElement('span');\n",
              "  element.textContent = text;\n",
              "  for (const key of Object.keys(styleAttributes)) {\n",
              "    element.style[key] = styleAttributes[key];\n",
              "  }\n",
              "  return element;\n",
              "}\n",
              "\n",
              "// Max number of bytes which will be uploaded at a time.\n",
              "const MAX_PAYLOAD_SIZE = 100 * 1024;\n",
              "\n",
              "function _uploadFiles(inputId, outputId) {\n",
              "  const steps = uploadFilesStep(inputId, outputId);\n",
              "  const outputElement = document.getElementById(outputId);\n",
              "  // Cache steps on the outputElement to make it available for the next call\n",
              "  // to uploadFilesContinue from Python.\n",
              "  outputElement.steps = steps;\n",
              "\n",
              "  return _uploadFilesContinue(outputId);\n",
              "}\n",
              "\n",
              "// This is roughly an async generator (not supported in the browser yet),\n",
              "// where there are multiple asynchronous steps and the Python side is going\n",
              "// to poll for completion of each step.\n",
              "// This uses a Promise to block the python side on completion of each step,\n",
              "// then passes the result of the previous step as the input to the next step.\n",
              "function _uploadFilesContinue(outputId) {\n",
              "  const outputElement = document.getElementById(outputId);\n",
              "  const steps = outputElement.steps;\n",
              "\n",
              "  const next = steps.next(outputElement.lastPromiseValue);\n",
              "  return Promise.resolve(next.value.promise).then((value) => {\n",
              "    // Cache the last promise value to make it available to the next\n",
              "    // step of the generator.\n",
              "    outputElement.lastPromiseValue = value;\n",
              "    return next.value.response;\n",
              "  });\n",
              "}\n",
              "\n",
              "/**\n",
              " * Generator function which is called between each async step of the upload\n",
              " * process.\n",
              " * @param {string} inputId Element ID of the input file picker element.\n",
              " * @param {string} outputId Element ID of the output display.\n",
              " * @return {!Iterable<!Object>} Iterable of next steps.\n",
              " */\n",
              "function* uploadFilesStep(inputId, outputId) {\n",
              "  const inputElement = document.getElementById(inputId);\n",
              "  inputElement.disabled = false;\n",
              "\n",
              "  const outputElement = document.getElementById(outputId);\n",
              "  outputElement.innerHTML = '';\n",
              "\n",
              "  const pickedPromise = new Promise((resolve) => {\n",
              "    inputElement.addEventListener('change', (e) => {\n",
              "      resolve(e.target.files);\n",
              "    });\n",
              "  });\n",
              "\n",
              "  const cancel = document.createElement('button');\n",
              "  inputElement.parentElement.appendChild(cancel);\n",
              "  cancel.textContent = 'Cancel upload';\n",
              "  const cancelPromise = new Promise((resolve) => {\n",
              "    cancel.onclick = () => {\n",
              "      resolve(null);\n",
              "    };\n",
              "  });\n",
              "\n",
              "  // Wait for the user to pick the files.\n",
              "  const files = yield {\n",
              "    promise: Promise.race([pickedPromise, cancelPromise]),\n",
              "    response: {\n",
              "      action: 'starting',\n",
              "    }\n",
              "  };\n",
              "\n",
              "  cancel.remove();\n",
              "\n",
              "  // Disable the input element since further picks are not allowed.\n",
              "  inputElement.disabled = true;\n",
              "\n",
              "  if (!files) {\n",
              "    return {\n",
              "      response: {\n",
              "        action: 'complete',\n",
              "      }\n",
              "    };\n",
              "  }\n",
              "\n",
              "  for (const file of files) {\n",
              "    const li = document.createElement('li');\n",
              "    li.append(span(file.name, {fontWeight: 'bold'}));\n",
              "    li.append(span(\n",
              "        `(${file.type || 'n/a'}) - ${file.size} bytes, ` +\n",
              "        `last modified: ${\n",
              "            file.lastModifiedDate ? file.lastModifiedDate.toLocaleDateString() :\n",
              "                                    'n/a'} - `));\n",
              "    const percent = span('0% done');\n",
              "    li.appendChild(percent);\n",
              "\n",
              "    outputElement.appendChild(li);\n",
              "\n",
              "    const fileDataPromise = new Promise((resolve) => {\n",
              "      const reader = new FileReader();\n",
              "      reader.onload = (e) => {\n",
              "        resolve(e.target.result);\n",
              "      };\n",
              "      reader.readAsArrayBuffer(file);\n",
              "    });\n",
              "    // Wait for the data to be ready.\n",
              "    let fileData = yield {\n",
              "      promise: fileDataPromise,\n",
              "      response: {\n",
              "        action: 'continue',\n",
              "      }\n",
              "    };\n",
              "\n",
              "    // Use a chunked sending to avoid message size limits. See b/62115660.\n",
              "    let position = 0;\n",
              "    do {\n",
              "      const length = Math.min(fileData.byteLength - position, MAX_PAYLOAD_SIZE);\n",
              "      const chunk = new Uint8Array(fileData, position, length);\n",
              "      position += length;\n",
              "\n",
              "      const base64 = btoa(String.fromCharCode.apply(null, chunk));\n",
              "      yield {\n",
              "        response: {\n",
              "          action: 'append',\n",
              "          file: file.name,\n",
              "          data: base64,\n",
              "        },\n",
              "      };\n",
              "\n",
              "      let percentDone = fileData.byteLength === 0 ?\n",
              "          100 :\n",
              "          Math.round((position / fileData.byteLength) * 100);\n",
              "      percent.textContent = `${percentDone}% done`;\n",
              "\n",
              "    } while (position < fileData.byteLength);\n",
              "  }\n",
              "\n",
              "  // All done.\n",
              "  yield {\n",
              "    response: {\n",
              "      action: 'complete',\n",
              "    }\n",
              "  };\n",
              "}\n",
              "\n",
              "scope.google = scope.google || {};\n",
              "scope.google.colab = scope.google.colab || {};\n",
              "scope.google.colab._files = {\n",
              "  _uploadFiles,\n",
              "  _uploadFilesContinue,\n",
              "};\n",
              "})(self);\n",
              "</script> "
            ]
          },
          "metadata": {}
        },
        {
          "output_type": "stream",
          "name": "stdout",
          "text": [
            "Saving Cluster2_Pheno-data.csv to Cluster2_Pheno-data.csv\n"
          ]
        }
      ]
    },
    {
      "cell_type": "code",
      "source": [
        "# Load the dataset\n",
        "import io\n",
        "import pandas as pd\n",
        "data = pd.read_csv(io.BytesIO(uploaded['Cluster2_Pheno-data.csv']))\n",
        "\n",
        "# Preview the dataset\n",
        "print(\"Dataset Preview:\")\n",
        "print(data.head())\n"
      ],
      "metadata": {
        "colab": {
          "base_uri": "https://localhost:8080/"
        },
        "id": "z8YMNDusWX46",
        "outputId": "a36ddea7-d775-4dee-aff9-101cf5ee8939"
      },
      "execution_count": 4,
      "outputs": [
        {
          "output_type": "stream",
          "name": "stdout",
          "text": [
            "Dataset Preview:\n",
            "   Unnamed: 0  ProjectID shorthand_x                   FILE_LIST_x  YEAR_x  \\\n",
            "0           0     235024        C2.1  project235024_year2001.Rdata    2001   \n",
            "1           1     235024        C2.1  project235024_year2001.Rdata    2001   \n",
            "2           2     235024        C2.1  project235024_year2001.Rdata    2001   \n",
            "3           3     235024        C2.1  project235024_year2001.Rdata    2001   \n",
            "4           4     235024        C2.1  project235024_year2001.Rdata    2001   \n",
            "\n",
            "    LOC  LONGITUDE  LATITUDE  LINE      ERM  ...  shorthand_y  Unnamed: 0_y  \\\n",
            "0  ILBM     -89.12     39.70   1.0  115.337  ...         C2.1          1381   \n",
            "1  ILMN     -90.65     40.91   1.0  113.284  ...         C2.1          1381   \n",
            "2  INVI     -87.52     38.68   1.0  114.346  ...         C2.1          1381   \n",
            "3  MOBU     -94.20     39.14   1.0  113.914  ...         C2.1          1381   \n",
            "4  MOHA     -94.98     39.34   1.0  116.823  ...         C2.1          1381   \n",
            "\n",
            "   MAB_PROJECT_ID  YEAR_y  GERMPLASM_ID  GENERATION_NAME        HG  \\\n",
            "0          235024    2001       3289442               F2  Cluster2   \n",
            "1          235024    2001       3289442               F2  Cluster2   \n",
            "2          235024    2001       3289442               F2  Cluster2   \n",
            "3          235024    2001       3289442               F2  Cluster2   \n",
            "4          235024    2001       3289442               F2  Cluster2   \n",
            "\n",
            "                    FILE_LIST_y            CROSS GERMPLASM_ID_TESTER  \n",
            "0  project235024_year2001.Rdata  3289442/3577856           3424914.0  \n",
            "1  project235024_year2001.Rdata  3289442/3577856           3424914.0  \n",
            "2  project235024_year2001.Rdata  3289442/3577856           3424914.0  \n",
            "3  project235024_year2001.Rdata  3289442/3577856           3424914.0  \n",
            "4  project235024_year2001.Rdata  3289442/3577856           3424914.0  \n",
            "\n",
            "[5 rows x 33 columns]\n"
          ]
        }
      ]
    },
    {
      "cell_type": "markdown",
      "source": [
        "# Step 3: Exploratory Data Analysis (EDA)\n",
        "\n",
        "EDA helps you explore the dataset’s distribution, relationships, and any anomalies."
      ],
      "metadata": {
        "id": "veh4uDs7hImz"
      }
    },
    {
      "cell_type": "code",
      "execution_count": 8,
      "metadata": {
        "colab": {
          "base_uri": "https://localhost:8080/"
        },
        "id": "F0T49gihhCrg",
        "outputId": "19c04817-6715-40c0-8f55-29f6095be34d"
      },
      "outputs": [
        {
          "output_type": "stream",
          "name": "stdout",
          "text": [
            "\n",
            "Summary Statistics:\n",
            "          Unnamed: 0     ProjectID         YEAR_x      LONGITUDE  \\\n",
            "count  535340.000000  5.353400e+05  535340.000000  532726.000000   \n",
            "mean   267669.500000  5.120760e+06    2004.198160     -91.237992   \n",
            "std    154539.490891  2.866665e+06       2.059361       5.036232   \n",
            "min         0.000000  2.350240e+05    2000.000000    -102.500000   \n",
            "25%    133834.750000  3.426407e+06    2003.000000     -94.890000   \n",
            "50%    267669.500000  3.438435e+06    2004.000000     -91.340000   \n",
            "75%    401504.250000  9.442056e+06    2005.000000     -88.570000   \n",
            "max    535339.000000  1.006631e+07    2008.000000     -75.610000   \n",
            "\n",
            "            LATITUDE           LINE            ERM            MST  \\\n",
            "count  532726.000000  535340.000000  331368.000000  520111.000000   \n",
            "mean       41.201070     139.168378     107.540295      19.613414   \n",
            "std         2.363221     270.537271       6.890731       4.131381   \n",
            "min        30.870000       1.000000     -24.308700       8.220000   \n",
            "25%        39.980000      52.000000     103.215400      16.560000   \n",
            "50%        41.110000     104.000000     109.011250      19.200000   \n",
            "75%        42.680000     160.000000     112.521700      22.200000   \n",
            "max        47.400000    4279.000000     245.709300      49.500000   \n",
            "\n",
            "                 PHT           RTLP  ...         YLD_BE            EHT  \\\n",
            "count  154281.000000  248495.000000  ...  511983.000000  122197.000000   \n",
            "mean       95.089397       4.721931  ...     196.747211      43.899221   \n",
            "std        11.523176      13.366889  ...      36.188634       7.042347   \n",
            "min        48.000000       0.000000  ...      26.866300      17.000000   \n",
            "25%        88.000000       0.000000  ...     174.134950      39.000000   \n",
            "50%        95.000000       0.000000  ...     198.906200      44.000000   \n",
            "75%       101.000000       2.531600  ...     222.022400      48.000000   \n",
            "max       148.000000     148.192800  ...     329.404700      70.000000   \n",
            "\n",
            "        CLUSTER   Unnamed: 0_x     projectID   Unnamed: 0_y  MAB_PROJECT_ID  \\\n",
            "count  535340.0  535340.000000  5.353400e+05  535340.000000    5.353400e+05   \n",
            "mean        2.0     227.558522  5.120760e+06    4149.291133    5.120760e+06   \n",
            "std         0.0     132.730611  2.866665e+06    5952.095309    2.866665e+06   \n",
            "min         2.0       1.000000  2.350240e+05       1.000000    2.350240e+05   \n",
            "25%         2.0     117.000000  3.426407e+06    1635.000000    3.426407e+06   \n",
            "50%         2.0     227.000000  3.438435e+06    2691.000000    3.438435e+06   \n",
            "75%         2.0     322.000000  9.442056e+06    3537.000000    9.442056e+06   \n",
            "max         2.0     500.000000  1.006631e+07   39110.000000    1.006631e+07   \n",
            "\n",
            "              YEAR_y  GERMPLASM_ID  GERMPLASM_ID_TESTER  \n",
            "count  535340.000000  5.353400e+05         5.254820e+05  \n",
            "mean     2004.198160  3.058585e+06         7.671860e+05  \n",
            "std         2.059361  3.788435e+06         1.364430e+06  \n",
            "min      2000.000000  2.484900e+04         5.687000e+03  \n",
            "25%      2003.000000  1.331856e+06         1.690200e+04  \n",
            "50%      2004.000000  1.401937e+06         4.242950e+05  \n",
            "75%      2005.000000  6.455705e+06         6.282750e+05  \n",
            "max      2008.000000  5.390131e+07         9.508217e+06  \n",
            "\n",
            "[8 rows x 22 columns]\n"
          ]
        }
      ],
      "source": [
        "# Summary Statistics\n",
        "\n",
        "## summary statistics for numerical columns\n",
        "\n",
        "print(\"\\nSummary Statistics:\")\n",
        "print(data.describe())"
      ]
    },
    {
      "cell_type": "code",
      "source": [
        "# check for unique values in the categorocal columns\n",
        "\n",
        "categorical_columns = ['YEAR_x', 'LOC', 'LINE_UNIQUE_ID', 'CROSS']\n",
        "\n",
        "for col in categorical_columns:\n",
        "    print(f\"\\nUnique values in {col}: {data[col].nunique()}\")\n"
      ],
      "metadata": {
        "colab": {
          "base_uri": "https://localhost:8080/"
        },
        "id": "5ykq5XxnjNsJ",
        "outputId": "30f9ab85-1c47-46c3-808c-f0816df1fe17"
      },
      "execution_count": 9,
      "outputs": [
        {
          "output_type": "stream",
          "name": "stdout",
          "text": [
            "\n",
            "Unique values in YEAR_x: 9\n",
            "\n",
            "Unique values in LOC: 390\n",
            "\n",
            "Unique values in LINE_UNIQUE_ID: 76635\n",
            "\n",
            "Unique values in CROSS: 473\n"
          ]
        }
      ]
    }
  ]
}